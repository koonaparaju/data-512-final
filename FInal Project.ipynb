{
 "cells": [
  {
   "cell_type": "markdown",
   "metadata": {},
   "source": [
    "# Final project \n",
    "\n",
    "In this project I want to do analysis of world development indicators.  https://datacatalog.worldbank.org/dataset/world-development-indicators \n",
    "\n",
    "More information on the indicators can be found here https://data.worldbank.org/indicator The data is very rich with close to 1600 indicators from various countires. \n",
    "\n",
    "## Interesting questions\n",
    "In the paris summit India, China and US are called out as biggest pollutors. I want to understand if that is true. I wil use CO2 emissions in kiloton , NO2 and methane emissons from each country starting from 2000. \n",
    "\n",
    "The second question to understand is the contributing factors to co2 emissions. "
   ]
  }
 ],
 "metadata": {
  "kernelspec": {
   "display_name": "Python 3",
   "language": "python",
   "name": "python3"
  },
  "language_info": {
   "codemirror_mode": {
    "name": "ipython",
    "version": 3
   },
   "file_extension": ".py",
   "mimetype": "text/x-python",
   "name": "python",
   "nbconvert_exporter": "python",
   "pygments_lexer": "ipython3",
   "version": "3.7.9"
  }
 },
 "nbformat": 4,
 "nbformat_minor": 4
}
