{
 "cells": [
  {
   "cell_type": "markdown",
   "metadata": {},
   "source": [
    "# World development indicators data set\n",
    "\n",
    "\n",
    "\n",
    "## Motivation\n",
    "In recent climate change conferences developing countries are considered to be big pollutors. Developing economies have energy needs to support their economies and lead to pollution. Developed countries were asked to innovate ways to curb the growing emissions. I belive in climate change and that is why I am interested in this dataset. Climate change impacts all humanity irrespective of the which country is the biggest pollutor. \n",
    "\n",
    "## Questions to explore\n",
    "I want to understand how globalization has shifted energy needs from developed countries to developing countries.  If globalization helped developing economies support their citizens they could be paying a price in pollution which could be impacting the health. \n",
    "\n",
    "My hypothesis is globalizaton increased energy consumption for developing economies and decreased the enery consumption of developed countries. \n",
    "\n",
    "The second quesion I want to pursue is improvement in quality of life in developing countries as a result of globalization. \n",
    "This is very broad question we can answer this with GDP, mortality rate, education and health metrics. \n",
    "\n",
    "My hypothesis is globalization improved the quality of life developing countries. \n",
    "\n",
    "## Data set\n",
    "The data set to use for this analysis is [world development indicators](https://datacatalog.worldbank.org/dataset/world-development-indicators). This data has close to 1600 indicators. Energy consumption and infrastructure metrics are tracked on a per country level. More information on the indicators can be found [here](https://data.worldbank.org/indicator).\n",
    "\n",
    "## License\n",
    "This data is public and uses CC-BY 4.0 licenses. It is permitted to download, redistribute the data with proper attribution \n",
    "\n",
    "## Analysis\n",
    "\n",
    "I want to consider data from year 2000 onwards. There are enegry indicators for each country in the list. In the total energy consumption the indicator of interest is amount of energy imported. I want to look at energy consumption and energy import for developing countries like India, China and compare that to developed countries like USA and European countries. \n",
    "\n",
    "For the second question I am going to use GDP , education, mortality rate indicators for developing economies. I need to figure out how this improvement can be tied to globalization. \n",
    "\n",
    "\n"
   ]
  },
  {
   "cell_type": "code",
   "execution_count": 2,
   "metadata": {},
   "outputs": [],
   "source": [
    "import pandas as pd "
   ]
  },
  {
   "cell_type": "code",
   "execution_count": 3,
   "metadata": {},
   "outputs": [],
   "source": [
    "# load data from \n",
    "wdidata_df_orig = pd.read_csv('data/WDIData.csv')\n"
   ]
  },
  {
   "cell_type": "code",
   "execution_count": 4,
   "metadata": {},
   "outputs": [
    {
     "data": {
      "text/html": [
       "<div>\n",
       "<style scoped>\n",
       "    .dataframe tbody tr th:only-of-type {\n",
       "        vertical-align: middle;\n",
       "    }\n",
       "\n",
       "    .dataframe tbody tr th {\n",
       "        vertical-align: top;\n",
       "    }\n",
       "\n",
       "    .dataframe thead th {\n",
       "        text-align: right;\n",
       "    }\n",
       "</style>\n",
       "<table border=\"1\" class=\"dataframe\">\n",
       "  <thead>\n",
       "    <tr style=\"text-align: right;\">\n",
       "      <th></th>\n",
       "      <th>Country Name</th>\n",
       "      <th>Country Code</th>\n",
       "      <th>Indicator Name</th>\n",
       "      <th>Indicator Code</th>\n",
       "      <th>1960</th>\n",
       "      <th>1961</th>\n",
       "      <th>1962</th>\n",
       "      <th>1963</th>\n",
       "      <th>1964</th>\n",
       "      <th>1965</th>\n",
       "      <th>...</th>\n",
       "      <th>2012</th>\n",
       "      <th>2013</th>\n",
       "      <th>2014</th>\n",
       "      <th>2015</th>\n",
       "      <th>2016</th>\n",
       "      <th>2017</th>\n",
       "      <th>2018</th>\n",
       "      <th>2019</th>\n",
       "      <th>2020</th>\n",
       "      <th>Unnamed: 65</th>\n",
       "    </tr>\n",
       "  </thead>\n",
       "  <tbody>\n",
       "    <tr>\n",
       "      <th>0</th>\n",
       "      <td>Arab World</td>\n",
       "      <td>ARB</td>\n",
       "      <td>Access to clean fuels and technologies for coo...</td>\n",
       "      <td>EG.CFT.ACCS.ZS</td>\n",
       "      <td>NaN</td>\n",
       "      <td>NaN</td>\n",
       "      <td>NaN</td>\n",
       "      <td>NaN</td>\n",
       "      <td>NaN</td>\n",
       "      <td>NaN</td>\n",
       "      <td>...</td>\n",
       "      <td>83.120303</td>\n",
       "      <td>83.533457</td>\n",
       "      <td>83.897596</td>\n",
       "      <td>84.171599</td>\n",
       "      <td>84.510171</td>\n",
       "      <td>NaN</td>\n",
       "      <td>NaN</td>\n",
       "      <td>NaN</td>\n",
       "      <td>NaN</td>\n",
       "      <td>NaN</td>\n",
       "    </tr>\n",
       "  </tbody>\n",
       "</table>\n",
       "<p>1 rows × 66 columns</p>\n",
       "</div>"
      ],
      "text/plain": [
       "  Country Name Country Code  \\\n",
       "0   Arab World          ARB   \n",
       "\n",
       "                                      Indicator Name  Indicator Code  1960  \\\n",
       "0  Access to clean fuels and technologies for coo...  EG.CFT.ACCS.ZS   NaN   \n",
       "\n",
       "   1961  1962  1963  1964  1965  ...       2012       2013       2014  \\\n",
       "0   NaN   NaN   NaN   NaN   NaN  ...  83.120303  83.533457  83.897596   \n",
       "\n",
       "        2015       2016  2017  2018  2019  2020  Unnamed: 65  \n",
       "0  84.171599  84.510171   NaN   NaN   NaN   NaN          NaN  \n",
       "\n",
       "[1 rows x 66 columns]"
      ]
     },
     "execution_count": 4,
     "metadata": {},
     "output_type": "execute_result"
    }
   ],
   "source": [
    "# emission columns. There are multiple indicators for this \n",
    "greenhouse_gases = 'Total greenhouse gas emissions (kt of CO2 equivalent)'\n",
    "\n",
    "wdidata_df_orig.head(1)"
   ]
  },
  {
   "cell_type": "code",
   "execution_count": 8,
   "metadata": {},
   "outputs": [],
   "source": [
    "ind_df = wdidata_df_orig[(wdidata_df_orig['Indicator Code'] == 'EN.ATM.GHGT.KT.CE') & (wdidata_df_orig['Country Code'] == 'IND')]"
   ]
  },
  {
   "cell_type": "code",
   "execution_count": 11,
   "metadata": {},
   "outputs": [
    {
     "data": {
      "text/html": [
       "<div>\n",
       "<style scoped>\n",
       "    .dataframe tbody tr th:only-of-type {\n",
       "        vertical-align: middle;\n",
       "    }\n",
       "\n",
       "    .dataframe tbody tr th {\n",
       "        vertical-align: top;\n",
       "    }\n",
       "\n",
       "    .dataframe thead th {\n",
       "        text-align: right;\n",
       "    }\n",
       "</style>\n",
       "<table border=\"1\" class=\"dataframe\">\n",
       "  <thead>\n",
       "    <tr style=\"text-align: right;\">\n",
       "      <th></th>\n",
       "      <th>Country Code</th>\n",
       "      <th>Indicator Name</th>\n",
       "      <th>variable</th>\n",
       "      <th>value</th>\n",
       "    </tr>\n",
       "  </thead>\n",
       "  <tbody>\n",
       "    <tr>\n",
       "      <th>0</th>\n",
       "      <td>IND</td>\n",
       "      <td>Total greenhouse gas emissions (kt of CO2 equi...</td>\n",
       "      <td>2000</td>\n",
       "      <td>1885189.00</td>\n",
       "    </tr>\n",
       "    <tr>\n",
       "      <th>1</th>\n",
       "      <td>IND</td>\n",
       "      <td>Total greenhouse gas emissions (kt of CO2 equi...</td>\n",
       "      <td>2001</td>\n",
       "      <td>1875600.85</td>\n",
       "    </tr>\n",
       "    <tr>\n",
       "      <th>2</th>\n",
       "      <td>IND</td>\n",
       "      <td>Total greenhouse gas emissions (kt of CO2 equi...</td>\n",
       "      <td>2002</td>\n",
       "      <td>1917294.66</td>\n",
       "    </tr>\n",
       "  </tbody>\n",
       "</table>\n",
       "</div>"
      ],
      "text/plain": [
       "  Country Code                                     Indicator Name variable  \\\n",
       "0          IND  Total greenhouse gas emissions (kt of CO2 equi...     2000   \n",
       "1          IND  Total greenhouse gas emissions (kt of CO2 equi...     2001   \n",
       "2          IND  Total greenhouse gas emissions (kt of CO2 equi...     2002   \n",
       "\n",
       "        value  \n",
       "0  1885189.00  \n",
       "1  1875600.85  \n",
       "2  1917294.66  "
      ]
     },
     "execution_count": 11,
     "metadata": {},
     "output_type": "execute_result"
    }
   ],
   "source": [
    "pd.melt(ind_df, id_vars=['Country Code', 'Indicator Name'], value_vars=['2000', '2001', '2002'])"
   ]
  },
  {
   "cell_type": "code",
   "execution_count": null,
   "metadata": {},
   "outputs": [],
   "source": []
  }
 ],
 "metadata": {
  "kernelspec": {
   "display_name": "Python 3",
   "language": "python",
   "name": "python3"
  },
  "language_info": {
   "codemirror_mode": {
    "name": "ipython",
    "version": 3
   },
   "file_extension": ".py",
   "mimetype": "text/x-python",
   "name": "python",
   "nbconvert_exporter": "python",
   "pygments_lexer": "ipython3",
   "version": "3.7.3"
  }
 },
 "nbformat": 4,
 "nbformat_minor": 4
}
