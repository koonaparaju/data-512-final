{
 "cells": [
  {
   "cell_type": "markdown",
   "metadata": {},
   "source": [
    "# Final project \n",
    "\n",
    "In this project I want to do analysis of world development indicators.  https://datacatalog.worldbank.org/dataset/world-development-indicators \n",
    "\n",
    "The data is very rich with close to 1600 indicators from various countires. I want to understand the quality for life changes from various countires. I want to look at environmental changes, per capita changes and health indicator changes across time. I wan to pick countires in Asia, Europe and America continents.  \n",
    "\n",
    "## Interesting indicators\n",
    "The data set has indicator grouped in vrious categories. I am "
   ]
  }
 ],
 "metadata": {
  "kernelspec": {
   "display_name": "Python 3",
   "language": "python",
   "name": "python3"
  },
  "language_info": {
   "codemirror_mode": {
    "name": "ipython",
    "version": 3
   },
   "file_extension": ".py",
   "mimetype": "text/x-python",
   "name": "python",
   "nbconvert_exporter": "python",
   "pygments_lexer": "ipython3",
   "version": "3.7.9"
  }
 },
 "nbformat": 4,
 "nbformat_minor": 4
}
