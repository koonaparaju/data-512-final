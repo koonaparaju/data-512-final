{
 "cells": [
  {
   "cell_type": "markdown",
   "metadata": {},
   "source": [
    "# World development indicators data set\n",
    "\n",
    "\n",
    "\n",
    "## Introduction\n",
    "Globalization increased interdependence between countries in terms of trade and technology. Globalization also allwoed international companies to expand to multiple countires. Globalization also seemed to have caused increase in enegy consumption by countries. This inturn casues CO2 emissions to go up in these countries. \n",
    "In recent climate change conferences developing countries are considered to be big pollutors. Developing economies have energy needs to support their economies and lead to pollution. Developed countries were asked to innovate ways to curb the growing emissions. In this article I choose to look at 3 countries, USA, India and China to look into globalization inde and energy consumption. \n",
    "\n",
    "I also belive that increased energy consumption and industrialization caused an increase in GDP of countries. There are many indicators of quality of life. In this article I want to use GDP as one of the indicators to indetify increase in wealth of the citizens of hte countries. \n",
    "\n",
    "## Questions to explore\n",
    "I want to understand how globalization has shifted energy needs from developed countries to developing countries.  If globalization helped developing economies support their citizens they could be paying a price in pollution which could be impacting the health. \n",
    "\n",
    "My hypothesis is globalizaton increased energy consumption for developing economies and decreased the enery consumption of developed countries. \n",
    "\n",
    "The second quesion I want to pursue is improvement in quality of life in developing countries as a result of globalization. \n",
    "This is very broad question we can answer this with GDP, mortality rate, education and health metrics. \n",
    "\n",
    "My hypothesis is globalization improved the quality of life developing countries. \n",
    "\n",
    "## Data set\n",
    "The data set to use for this analysis is [world development indicators](https://datacatalog.worldbank.org/dataset/world-development-indicators). This data has close to 1600 indicators. Energy consumption and infrastructure metrics are tracked on a per country level. More information on the indicators can be found [here](https://data.worldbank.org/indicator).\n",
    "This data is public and uses CC-BY 4.0 licenses. It is permitted to download, redistribute the data with proper attribution \n",
    "\n",
    "\n",
    "KOF Globalisation Index is used to track the spread of globalization of each contries. The data set is avilable for download [here](https://ethz.ch/content/dam/ethz/special-interest/dual/kof-dam/documents/Medienmitteilungen/Globalisierungsindex/KOFGI_2020_public.xlsx) The inde tracts 23 variables for each country and computes an index. The index is computed as described [here](https://ethz.ch/content/dam/ethz/special-interest/dual/kof-dam/documents/Medienmitteilungen/Globalisierungsindex/KOFGI_2020_method.pdf) Description of the variables is provided [here](https://ethz.ch/content/dam/ethz/special-interest/dual/kof-dam/documents/Medienmitteilungen/Globalisierungsindex/KOFGI_2020_variables.pdf) In this article I use the final index rather than individual values of the globalization index. I couldn't find an attached license to data but its available for download publicly. \n",
    "\n",
    "Copy of the data can be downloaded by python code below. The script assumes an active network connection to pull the data from its sources.\n",
    "\n",
    "## Analysis\n",
    "\n",
    "The analysis in this case is mostly exploratory. I want to consider data from year 1970 onwards. There are enegry indicators for each country in the list. In the total energy consumption the indicator of interest is amount of energy imported. I want to look at energy consumption of countries like India, China and compare that to developed countries like USA countries. For the second question I am going to use GDP of economies. "
   ]
  },
  {
   "cell_type": "code",
   "execution_count": null,
   "metadata": {},
   "outputs": [],
   "source": [
    "import pandas as pd \n",
    "import os \n",
    "import requests\n",
    "import matplotlib.pyplot as plt\n",
    "import zipfile"
   ]
  },
  {
   "cell_type": "markdown",
   "metadata": {},
   "source": [
    "Next section of code downloads the data from the data source.  World Data indicators is downloaded in compressed format. After downlaod is complete data is extracted to data folder. Globalization data set is downloaded in excel format.\n",
    "\n",
    "The total download time varies based on download speeds. You can retry this method multiple times if download fails."
   ]
  },
  {
   "cell_type": "code",
   "execution_count": null,
   "metadata": {},
   "outputs": [],
   "source": [
    "data_folder = 'data'\n",
    "compressed_file = os.path.join(data_folder, 'wdi_data.zip')\n",
    "wdi_download_url = 'http://databank.worldbank.org/data/download/WDI_csv.zip'\n",
    "koi_globalization_url = 'https://ethz.ch/content/dam/ethz/special-interest/dual/kof-dam/documents/Medienmitteilungen/Globalisierungsindex/KOFGI_2020_public.xlsx'\n",
    "\n",
    "def download_data_from_world_bank_source():\n",
    "\n",
    "    h = requests.head(wdi_download_url, allow_redirects=True)\n",
    "    header = h.headers\n",
    "    content_length = header.get('content-length', None)\n",
    "    print('Size of file to download {}'.format(content_length))\n",
    "    if not os.path.exists(data_folder):\n",
    "        os.makedir(data_folder)\n",
    "    resp = requests.get(wdi_download_url, allow_redirects=True)\n",
    "    open(compressed_file, 'wb').write(resp.content)\n",
    "    print(\"Downloaded data to {}\".format(compressed_file))\n",
    "\n",
    "def download_data_from_KOI_source():\n",
    "    if not os.path.exists(data_folder):\n",
    "        os.makedir(data_folder)\n",
    "    resp = requests.get(koi_globalization_url, allow_redirects=True)\n",
    "    open('KOFGI_2020_public.xlsx', 'wb').write(resp.content)\n",
    "    print(\"Downloaded data to {}\".format('KOFGI_2020_public.xlsx'))\n",
    "\n",
    "        \n",
    "def extract_data(): \n",
    "    with zipfile.ZipFile(compressed_file, 'r') as zip_data:\n",
    "        zip_data.extractall(data_folder)\n",
    "    print(\"Extracted file {} to folder {}\".format(compressed_file, data_folder))\n",
    "\n",
    "download_data_from_KOI_source()    \n",
    "download_data_from_world_bank_source()\n",
    "extract_data()\n",
    "\n",
    "# load data from \n",
    "\n"
   ]
  },
  {
   "cell_type": "markdown",
   "metadata": {},
   "source": [
    "World bank data has multiple files in the compressed folder. Here is a list of files \n",
    "* WDICountry-Series.csv\n",
    "* WDICountry.csv\n",
    "* WDIData.csv\n",
    "* WDIFootNote.csv\n",
    "* WDISeries-Time.csv\n",
    "* WDISeries.csv\n",
    "\n",
    "The file I am interested inis WDIData.csv. \n"
   ]
  },
  {
   "cell_type": "markdown",
   "metadata": {},
   "source": [
    "# Analysis\n",
    "\n",
    "In the following sections, i perfrom basic exploratory analysis of the data. I start with plotting globalization index for the the three countries. I start by reading the data previosuly downloaded. Data for globalization is plotted first then , gdp and energy consumption. Globalizaton data is read into a pandas data frame. The year columns of the dataframe is marked as index for the frame. This is useful in plotting the data as time series data. "
   ]
  },
  {
   "cell_type": "code",
   "execution_count": null,
   "metadata": {},
   "outputs": [],
   "source": [
    "wdidata_df_orig = pd.read_csv('data/WDIData.csv')\n",
    "globalization_df = pd.read_excel('data/KOFGI_2020_public.xlsx')\n",
    "country_code = ['IND', 'CHN', 'USA']\n",
    "globalization_df.set_index('year', inplace=True)"
   ]
  },
  {
   "cell_type": "code",
   "execution_count": null,
   "metadata": {},
   "outputs": [],
   "source": [
    "fig, ax = plt.subplots(figsize=(7,7))\n",
    "globalization_df[globalization_df['code'].isin(country_code)].groupby('code')['KOFGI'].plot(legend=True, title='Globalization Index over years', )\n",
    "ax.set_xlabel('Year')\n",
    "ax.set_ylabel('KOF Globalization Index')"
   ]
  },
  {
   "cell_type": "markdown",
   "metadata": {},
   "source": [
    "From the graph above its evident that globalization increased significantly in the two developoing economies, albeit its slowing down in recent years. There seems to be a correlation between the time series data of three countries. \n",
    "\n",
    "# Energy Consumption and GDP graphs. \n",
    "\n",
    "To analyze world data indicators I used Electric power consumption (kWh per capita) and GDP (current US$ of the countries. World data indicators have years as columns instead of rows. To make is easy to parse and plot i used pandas melt function to pivot columns into rows. The section of code below walks through these stepa and plots data. "
   ]
  },
  {
   "cell_type": "code",
   "execution_count": null,
   "metadata": {},
   "outputs": [],
   "source": [
    "# emission columns. There are multiple indicators for this \n",
    "greenhouse_gases = 'Total greenhouse gas emissions (kt of CO2 equivalent)'\n",
    "Electric_power_consumption = 'EG.USE.ELEC.KH.PC'\n",
    "energy_oil_percapita = 'EG.USE.PCAP.KG.OE'\n",
    "energy_kw_percapita = 'EG.USE.ELEC.KH.PC'\n",
    "gdp_per_capita = 'NY.GDP.MKTP.CD'\n",
    "gdp_growth_percent = 'NY.GDP.MKTP.KD.ZG'\n",
    "wdidata_df_orig.head(1)"
   ]
  },
  {
   "cell_type": "code",
   "execution_count": null,
   "metadata": {},
   "outputs": [],
   "source": [
    "encergy_consumption_df = wdidata_df_orig[(wdidata_df_orig['Indicator Code'].isin([gdp_per_capita, gdp_growth_percent, energy_kw_percapita]) ) & (wdidata_df_orig['Country Code'].isin(country_code))]"
   ]
  },
  {
   "cell_type": "code",
   "execution_count": null,
   "metadata": {},
   "outputs": [],
   "source": [
    "encergy_consumption_df.head()"
   ]
  },
  {
   "cell_type": "code",
   "execution_count": null,
   "metadata": {},
   "outputs": [],
   "source": [
    "pivot_df = pd.melt(encergy_consumption_df, id_vars=['Country Code', 'Indicator Code'], value_vars=[str(x)  for x in range(1970,2020)])\n",
    "pivot_df.set_index('variable', inplace=True)"
   ]
  },
  {
   "cell_type": "markdown",
   "metadata": {},
   "source": [
    "## Pivoting table \n",
    "This is how the pivoted data looks like. Notice year is in one coulmn instead of several columns in the original row."
   ]
  },
  {
   "cell_type": "code",
   "execution_count": null,
   "metadata": {},
   "outputs": [],
   "source": [
    "pivot_df.head()"
   ]
  },
  {
   "cell_type": "code",
   "execution_count": null,
   "metadata": {},
   "outputs": [],
   "source": [
    "fig, ax = plt.subplots(figsize=(7,7))\n",
    "pivot_df[pivot_df['Indicator Code']== gdp_per_capita].groupby('Country Code')['value'].plot(legend=True, title='GDP per country.', )\n",
    "ax.set_xlabel('Year')\n",
    "ax.set_ylabel('GDP (current US$)')"
   ]
  },
  {
   "cell_type": "code",
   "execution_count": null,
   "metadata": {},
   "outputs": [],
   "source": [
    "fig, ax = plt.subplots(figsize=(7,7))\n",
    "pivot_df[pivot_df['Indicator Code']== 'EG.USE.ELEC.KH.PC'].groupby('Country Code')['value'].plot(legend=True, title='Electric power consumption', )\n",
    "ax.set_xlabel('Year')\n",
    "ax.set_ylabel('Electric power consumption (kWh per capita)')"
   ]
  },
  {
   "cell_type": "markdown",
   "metadata": {},
   "source": [
    "# Findings\n",
    "\n",
    "The three plots above are very similar for all the three countries. Developed country like USA is ina different band than developing economies. This might not be true for all developed economies that need to be ivestigated. \n",
    "* Power consumption. \n",
    "All three countries seem to be consuming more energy as time progressed. Energy consumption seems to be related to globalization index. Overall the trends are the same. USA started seeinga decrease in energy consumption towards the end of the curve. I didn't have time to investigate the reasons here but according to paper presented, this could be related to enery efficiency gains. \n",
    "\n",
    "* GDP\n",
    "Overall gdp for all three coutnries increaed over the years. China seemed to have gained more than India overall. This again seems to be related to GLobalizations. \n",
    "\n",
    "# Next steps. \n",
    "\n",
    "In order to conclusively prove the above coreleation. I want to build pearson corelation between these time series data at a minimum. There are more advanced casaulity models for time series data that I came accross in literature that I need time to udnerstand. It will be workthwhile to investigate this further. "
   ]
  }
 ],
 "metadata": {
  "kernelspec": {
   "display_name": "Python 3",
   "language": "python",
   "name": "python3"
  },
  "language_info": {
   "codemirror_mode": {
    "name": "ipython",
    "version": 3
   },
   "file_extension": ".py",
   "mimetype": "text/x-python",
   "name": "python",
   "nbconvert_exporter": "python",
   "pygments_lexer": "ipython3",
   "version": "3.7.9"
  }
 },
 "nbformat": 4,
 "nbformat_minor": 4
}
